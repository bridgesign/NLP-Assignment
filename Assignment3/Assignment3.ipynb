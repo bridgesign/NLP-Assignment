{
  "nbformat": 4,
  "nbformat_minor": 0,
  "metadata": {
    "colab": {
      "name": "Assignment 3.ipynb",
      "provenance": [],
      "collapsed_sections": []
    },
    "kernelspec": {
      "name": "python3",
      "display_name": "Python 3"
    },
    "accelerator": "GPU"
  },
  "cells": [
    {
      "cell_type": "code",
      "metadata": {
        "id": "C2N8Z4de5fW-",
        "colab_type": "code",
        "outputId": "5b3a02dd-cd3d-4874-f262-3cdc18390f42",
        "colab": {
          "base_uri": "https://localhost:8080/",
          "height": 35
        }
      },
      "source": [
        "from google.colab import drive\n",
        "drive.mount('/content/gdrive')\n",
        "datapath = '/content/gdrive/My Drive/NLP/'"
      ],
      "execution_count": 1,
      "outputs": [
        {
          "output_type": "stream",
          "text": [
            "Drive already mounted at /content/gdrive; to attempt to forcibly remount, call drive.mount(\"/content/gdrive\", force_remount=True).\n"
          ],
          "name": "stdout"
        }
      ]
    },
    {
      "cell_type": "code",
      "metadata": {
        "id": "2SnBxEhe5-2g",
        "colab_type": "code",
        "colab": {}
      },
      "source": [
        "from sklearn.metrics import accuracy_score, classification_report, confusion_matrix\n",
        "from keras.preprocessing.text import Tokenizer\n",
        "from sklearn.model_selection import train_test_split\n",
        "import pandas as pd\n",
        "import random\n",
        "import numpy as np\n",
        "from keras.preprocessing import sequence\n",
        "from keras.utils import np_utils\n",
        "\n",
        "from keras.callbacks import ModelCheckpoint\n",
        "from keras.layers import Concatenate, Input, Reshape, Conv2D, Dropout, Conv1D, CuDNNLSTM, CuDNNGRU, Bidirectional\n",
        "from keras.models import Model, load_model\n",
        "\n",
        "from keras.layers.core import *\n",
        "from keras.layers.embeddings import Embedding\n",
        "from keras.layers.recurrent import LSTM, SimpleRNN, GRU\n",
        "from keras.preprocessing.text import Tokenizer\n",
        "from collections import defaultdict\n",
        "import keras.backend as K\n",
        "from keras import optimizers\n",
        "import keras"
      ],
      "execution_count": 0,
      "outputs": []
    },
    {
      "cell_type": "code",
      "metadata": {
        "id": "rvYhs0gQ1eLY",
        "colab_type": "code",
        "outputId": "8004252b-3cc5-465e-a558-6d113622466f",
        "colab": {
          "base_uri": "https://localhost:8080/",
          "height": 178
        }
      },
      "source": [
        "!pip install keras-self-attention"
      ],
      "execution_count": 3,
      "outputs": [
        {
          "output_type": "stream",
          "text": [
            "Requirement already satisfied: keras-self-attention in /usr/local/lib/python3.6/dist-packages (0.42.0)\n",
            "Requirement already satisfied: numpy in /usr/local/lib/python3.6/dist-packages (from keras-self-attention) (1.17.4)\n",
            "Requirement already satisfied: Keras in /usr/local/lib/python3.6/dist-packages (from keras-self-attention) (2.2.5)\n",
            "Requirement already satisfied: pyyaml in /usr/local/lib/python3.6/dist-packages (from Keras->keras-self-attention) (3.13)\n",
            "Requirement already satisfied: six>=1.9.0 in /usr/local/lib/python3.6/dist-packages (from Keras->keras-self-attention) (1.12.0)\n",
            "Requirement already satisfied: keras-applications>=1.0.8 in /usr/local/lib/python3.6/dist-packages (from Keras->keras-self-attention) (1.0.8)\n",
            "Requirement already satisfied: keras-preprocessing>=1.1.0 in /usr/local/lib/python3.6/dist-packages (from Keras->keras-self-attention) (1.1.0)\n",
            "Requirement already satisfied: scipy>=0.14 in /usr/local/lib/python3.6/dist-packages (from Keras->keras-self-attention) (1.3.2)\n",
            "Requirement already satisfied: h5py in /usr/local/lib/python3.6/dist-packages (from Keras->keras-self-attention) (2.8.0)\n"
          ],
          "name": "stdout"
        }
      ]
    },
    {
      "cell_type": "code",
      "metadata": {
        "id": "R3E_DUuY1gSt",
        "colab_type": "code",
        "colab": {}
      },
      "source": [
        "from keras_self_attention import SeqSelfAttention"
      ],
      "execution_count": 0,
      "outputs": []
    },
    {
      "cell_type": "code",
      "metadata": {
        "id": "KZDgF60C54tc",
        "colab_type": "code",
        "colab": {}
      },
      "source": [
        "def create_data(file):\n",
        "  text = file.read()\n",
        "  fields = ['#','$','%', '^','&','*','@','/','//','\\\\','[',']','(',')']\n",
        "  entries = [j.split('\\n') for j in text.split('\\n\\n')]\n",
        "  data = {'text':[], 'lang':[], 'tag':[]}\n",
        "  for entry in entries:\n",
        "    sent = entry[0].split('\\t')[-1]\n",
        "    if sent == 'positive':\n",
        "      data['tag'].append(0)\n",
        "    elif sent=='negative':\n",
        "      data['tag'].append(1)\n",
        "    else:\n",
        "      data['tag'].append(2)\n",
        "    words = []\n",
        "    langs = []\n",
        "    for wordl in entry[1:]:\n",
        "      word, lang = wordl.split('\\t')\n",
        "      if word not in fields:\n",
        "        words.append(word)\n",
        "        langs.append(lang)\n",
        "    data['text'].append(' '.join(words))\n",
        "    data['lang'].append(' '.join(langs))\n",
        "  return data"
      ],
      "execution_count": 0,
      "outputs": []
    },
    {
      "cell_type": "code",
      "metadata": {
        "id": "6-moS7h_8QJq",
        "colab_type": "code",
        "colab": {}
      },
      "source": [
        "with open(datapath+'train.txt', 'r') as f:\n",
        "  trainval = create_data(f)\n",
        "with open(datapath+'test.txt', 'r') as f:\n",
        "  test = create_data(f)"
      ],
      "execution_count": 0,
      "outputs": []
    },
    {
      "cell_type": "code",
      "metadata": {
        "id": "Z6-MAOb_-f_h",
        "colab_type": "code",
        "colab": {}
      },
      "source": [
        "test = pd.DataFrame(test)\n",
        "trainval = pd.DataFrame(trainval)"
      ],
      "execution_count": 0,
      "outputs": []
    },
    {
      "cell_type": "code",
      "metadata": {
        "id": "OyYkNTSJ957D",
        "colab_type": "code",
        "colab": {}
      },
      "source": [
        "SPLIT = 0.1\n",
        "MAXLEN_WORD = 128\n",
        "MAXLEN_SENT = 64\n",
        "EMB_FEATURES = 256"
      ],
      "execution_count": 0,
      "outputs": []
    },
    {
      "cell_type": "code",
      "metadata": {
        "id": "JkFXNeH091bA",
        "colab_type": "code",
        "colab": {}
      },
      "source": [
        "train, val = train_test_split(trainval, test_size = SPLIT, random_state = 42)"
      ],
      "execution_count": 0,
      "outputs": []
    },
    {
      "cell_type": "code",
      "metadata": {
        "id": "nY1b-Fdo8-Yl",
        "colab_type": "code",
        "colab": {}
      },
      "source": [
        "tokenizer_lang = Tokenizer(num_words=4, filters='')\n",
        "tokenizer_lang.fit_on_texts(train['lang'])"
      ],
      "execution_count": 0,
      "outputs": []
    },
    {
      "cell_type": "code",
      "metadata": {
        "id": "-EaOxoDF_bOd",
        "colab_type": "code",
        "colab": {}
      },
      "source": [
        "tokenizer_text = Tokenizer(num_words=256, filters='', char_level=True)\n",
        "tokenizer_text.fit_on_texts(train['text'])"
      ],
      "execution_count": 0,
      "outputs": []
    },
    {
      "cell_type": "code",
      "metadata": {
        "id": "zrOWzBev9YEI",
        "colab_type": "code",
        "colab": {}
      },
      "source": [
        "def create_3d_data(data, tokenizer_text, tokenizer_lang, MAXLEN_WORD, MAXLEN_SENT):\n",
        "  X_text = sequence.pad_sequences(tokenizer_text.texts_to_sequences(data['text']), maxlen=MAXLEN_SENT*MAXLEN_WORD)\n",
        "  X_lang = sequence.pad_sequences(tokenizer_lang.texts_to_sequences(data['lang']), maxlen=MAXLEN_SENT)\n",
        "  Y = np_utils.to_categorical(np.array(data['tag']), 3)\n",
        "  return X_text, X_lang, Y"
      ],
      "execution_count": 0,
      "outputs": []
    },
    {
      "cell_type": "code",
      "metadata": {
        "id": "RNy_X5GgPmxH",
        "colab_type": "code",
        "colab": {}
      },
      "source": [
        "X_text_train, X_lang_train, Y_train = create_3d_data(train, tokenizer_text, tokenizer_lang, MAXLEN_WORD, MAXLEN_SENT)\n",
        "X_text_val, X_lang_val, Y_val = create_3d_data(val, tokenizer_text, tokenizer_lang, MAXLEN_WORD, MAXLEN_SENT)"
      ],
      "execution_count": 0,
      "outputs": []
    },
    {
      "cell_type": "code",
      "metadata": {
        "id": "9QbzRo7wY9vq",
        "colab_type": "code",
        "colab": {}
      },
      "source": [
        "X_text_test, X_lang_test, Y_test = create_3d_data(test, tokenizer_text, tokenizer_lang, MAXLEN_WORD, MAXLEN_SENT)"
      ],
      "execution_count": 0,
      "outputs": []
    },
    {
      "cell_type": "code",
      "metadata": {
        "id": "SnDzJG8jQrmY",
        "colab_type": "code",
        "outputId": "4752085a-e116-446d-fc13-5053d1839751",
        "colab": {
          "base_uri": "https://localhost:8080/",
          "height": 35
        }
      },
      "source": [
        "print(X_text_train.shape, X_lang_train.shape, Y_train.shape)"
      ],
      "execution_count": 25,
      "outputs": [
        {
          "output_type": "stream",
          "text": [
            "(13618, 8192) (13618, 64) (13618, 3)\n"
          ],
          "name": "stdout"
        }
      ]
    },
    {
      "cell_type": "code",
      "metadata": {
        "id": "eq_i6qg6a1p1",
        "colab_type": "code",
        "colab": {
          "base_uri": "https://localhost:8080/",
          "height": 35
        },
        "outputId": "7560ca31-66b3-4d7c-86ec-f40c13060766"
      },
      "source": [
        "print(X_text_test.shape, X_lang_test.shape, Y_test.shape)"
      ],
      "execution_count": 33,
      "outputs": [
        {
          "output_type": "stream",
          "text": [
            "(1870, 8192) (1870, 64) (1870, 3)\n"
          ],
          "name": "stdout"
        }
      ]
    },
    {
      "cell_type": "code",
      "metadata": {
        "id": "HbSg3GTeRYZR",
        "colab_type": "code",
        "outputId": "76436a98-af1a-415b-97b8-7c521fdfeb9a",
        "colab": {
          "base_uri": "https://localhost:8080/",
          "height": 35
        }
      },
      "source": [
        "np.max(X_text_train)"
      ],
      "execution_count": 26,
      "outputs": [
        {
          "output_type": "execute_result",
          "data": {
            "text/plain": [
              "255"
            ]
          },
          "metadata": {
            "tags": []
          },
          "execution_count": 26
        }
      ]
    },
    {
      "cell_type": "code",
      "metadata": {
        "id": "3vOyErsbV7dS",
        "colab_type": "code",
        "colab": {}
      },
      "source": [
        "def recall_m(y_true, y_pred):\n",
        "        true_positives = K.sum(K.round(K.clip(y_true * y_pred, 0, 1)))\n",
        "        possible_positives = K.sum(K.round(K.clip(y_true, 0, 1)))\n",
        "        recall = true_positives / (possible_positives + K.epsilon())\n",
        "        return recall\n",
        "\n",
        "def precision_m(y_true, y_pred):\n",
        "        true_positives = K.sum(K.round(K.clip(y_true * y_pred, 0, 1)))\n",
        "        predicted_positives = K.sum(K.round(K.clip(y_pred, 0, 1)))\n",
        "        precision = true_positives / (predicted_positives + K.epsilon())\n",
        "        return precision\n",
        "\n",
        "def f1_m(y_true, y_pred):\n",
        "    precision = precision_m(y_true, y_pred)\n",
        "    recall = recall_m(y_true, y_pred)\n",
        "    return 2*((precision*recall)/(precision+recall+K.epsilon()))"
      ],
      "execution_count": 0,
      "outputs": []
    },
    {
      "cell_type": "code",
      "metadata": {
        "id": "3WHRlmTYe8dw",
        "colab_type": "code",
        "outputId": "d29e435d-993b-4d9b-f87f-6923688c415b",
        "colab": {
          "base_uri": "https://localhost:8080/",
          "height": 376
        }
      },
      "source": [
        "# Model\n",
        "text = Input(shape=(64*128,))\n",
        "lang = Input(shape=(64,))\n",
        "\n",
        "#Embedding for text\n",
        "emb_text = Embedding(EMB_FEATURES+3, 128, input_length=64*128)(text)\n",
        "\n",
        "conv = Conv1D(512, 3, activation='tanh')(emb_text)\n",
        "\n",
        "\n",
        "lstm = Bidirectional(CuDNNGRU(128, return_sequences=True))(conv)\n",
        "\n",
        "\n",
        "def max_1d(X):\n",
        "    return K.mean(X, axis=-1)\n",
        "\n",
        "att = SeqSelfAttention(attention_type=SeqSelfAttention.ATTENTION_TYPE_MUL,\n",
        "                       kernel_regularizer=keras.regularizers.l2(1e-4),\n",
        "                       bias_regularizer=keras.regularizers.l1(1e-4),\n",
        "                       attention_regularizer_weight=1e-4,\n",
        "                       name='Attention')(lstm)\n",
        "\n",
        "out_lstm = Bidirectional(CuDNNGRU(128))(lstm)\n",
        "\n",
        "dense_1 = Dense(500, activation='relu')(out_lstm)\n",
        "drop = Dropout(0.15)(dense_1)\n",
        "dense = Dense(200, activation='relu')(drop)\n",
        "out = Dense(3, activation='sigmoid')(dense)\n",
        "\n",
        "print(out.shape)\n",
        "adam = optimizers.Adam(lr=0.001, decay=1e-6)\n",
        "\n",
        "model_2 = Model(inputs=[text, lang], output=[out])\n",
        "model_2.compile(optimizer=adam,loss='categorical_crossentropy', metrics=['accuracy',f1_m,precision_m, recall_m])"
      ],
      "execution_count": 17,
      "outputs": [
        {
          "output_type": "stream",
          "text": [
            "WARNING:tensorflow:From /usr/local/lib/python3.6/dist-packages/keras/backend/tensorflow_backend.py:66: The name tf.get_default_graph is deprecated. Please use tf.compat.v1.get_default_graph instead.\n",
            "\n",
            "WARNING:tensorflow:From /usr/local/lib/python3.6/dist-packages/keras/backend/tensorflow_backend.py:541: The name tf.placeholder is deprecated. Please use tf.compat.v1.placeholder instead.\n",
            "\n",
            "WARNING:tensorflow:From /usr/local/lib/python3.6/dist-packages/keras/backend/tensorflow_backend.py:4432: The name tf.random_uniform is deprecated. Please use tf.random.uniform instead.\n",
            "\n",
            "WARNING:tensorflow:From /usr/local/lib/python3.6/dist-packages/keras/backend/tensorflow_backend.py:4479: The name tf.truncated_normal is deprecated. Please use tf.random.truncated_normal instead.\n",
            "\n",
            "WARNING:tensorflow:From /usr/local/lib/python3.6/dist-packages/keras/backend/tensorflow_backend.py:148: The name tf.placeholder_with_default is deprecated. Please use tf.compat.v1.placeholder_with_default instead.\n",
            "\n",
            "WARNING:tensorflow:From /usr/local/lib/python3.6/dist-packages/keras/backend/tensorflow_backend.py:3733: calling dropout (from tensorflow.python.ops.nn_ops) with keep_prob is deprecated and will be removed in a future version.\n",
            "Instructions for updating:\n",
            "Please use `rate` instead of `keep_prob`. Rate should be set to `rate = 1 - keep_prob`.\n",
            "(?, 3)\n",
            "WARNING:tensorflow:From /usr/local/lib/python3.6/dist-packages/keras/optimizers.py:793: The name tf.train.Optimizer is deprecated. Please use tf.compat.v1.train.Optimizer instead.\n",
            "\n",
            "WARNING:tensorflow:From /usr/local/lib/python3.6/dist-packages/keras/backend/tensorflow_backend.py:3576: The name tf.log is deprecated. Please use tf.math.log instead.\n",
            "\n"
          ],
          "name": "stdout"
        },
        {
          "output_type": "stream",
          "text": [
            "/usr/local/lib/python3.6/dist-packages/ipykernel_launcher.py:41: UserWarning: Update your `Model` call to the Keras 2 API: `Model(inputs=[<tf.Tenso..., outputs=[<tf.Tenso...)`\n"
          ],
          "name": "stderr"
        }
      ]
    },
    {
      "cell_type": "code",
      "metadata": {
        "id": "UG9h6R910ltQ",
        "colab_type": "code",
        "outputId": "697d89d3-3c46-443d-a4d0-965fa893de99",
        "colab": {
          "base_uri": "https://localhost:8080/",
          "height": 482
        }
      },
      "source": [
        "model_2.summary()"
      ],
      "execution_count": 18,
      "outputs": [
        {
          "output_type": "stream",
          "text": [
            "Model: \"model_1\"\n",
            "_________________________________________________________________\n",
            "Layer (type)                 Output Shape              Param #   \n",
            "=================================================================\n",
            "input_1 (InputLayer)         (None, 8192)              0         \n",
            "_________________________________________________________________\n",
            "embedding_1 (Embedding)      (None, 8192, 128)         33152     \n",
            "_________________________________________________________________\n",
            "conv1d_1 (Conv1D)            (None, 8190, 512)         197120    \n",
            "_________________________________________________________________\n",
            "bidirectional_1 (Bidirection (None, 8190, 256)         493056    \n",
            "_________________________________________________________________\n",
            "bidirectional_2 (Bidirection (None, 256)               296448    \n",
            "_________________________________________________________________\n",
            "dense_1 (Dense)              (None, 500)               128500    \n",
            "_________________________________________________________________\n",
            "dropout_1 (Dropout)          (None, 500)               0         \n",
            "_________________________________________________________________\n",
            "dense_2 (Dense)              (None, 200)               100200    \n",
            "_________________________________________________________________\n",
            "dense_3 (Dense)              (None, 3)                 603       \n",
            "=================================================================\n",
            "Total params: 1,249,079\n",
            "Trainable params: 1,249,079\n",
            "Non-trainable params: 0\n",
            "_________________________________________________________________\n"
          ],
          "name": "stdout"
        }
      ]
    },
    {
      "cell_type": "code",
      "metadata": {
        "id": "JuZzIH5wQPP0",
        "colab_type": "code",
        "colab": {}
      },
      "source": [
        "filepath = datapath+\"model_HAR.h5\"\n",
        "checkpoint = ModelCheckpoint(filepath, monitor='val_loss', verbose=1, save_best_only=True, mode='min')\n",
        "callbacks_list = [checkpoint]"
      ],
      "execution_count": 0,
      "outputs": []
    },
    {
      "cell_type": "code",
      "metadata": {
        "id": "cCcJ5FMVykwk",
        "colab_type": "code",
        "outputId": "9228883d-331c-4576-90cf-66ee8c8ad4fc",
        "colab": {
          "base_uri": "https://localhost:8080/",
          "height": 1000
        }
      },
      "source": [
        "history_2 = model_2.fit([X_text_train, X_lang_train], \n",
        "                    y=Y_train, \n",
        "                    batch_size=32,\n",
        "                    epochs=30, \n",
        "                    validation_data=([X_text_val, X_lang_val], Y_val), callbacks=callbacks_list)"
      ],
      "execution_count": 0,
      "outputs": [
        {
          "output_type": "stream",
          "text": [
            "WARNING:tensorflow:From /usr/local/lib/python3.6/dist-packages/tensorflow_core/python/ops/math_grad.py:1424: where (from tensorflow.python.ops.array_ops) is deprecated and will be removed in a future version.\n",
            "Instructions for updating:\n",
            "Use tf.where in 2.0, which has the same broadcast rule as np.where\n",
            "WARNING:tensorflow:From /usr/local/lib/python3.6/dist-packages/keras/backend/tensorflow_backend.py:1033: The name tf.assign_add is deprecated. Please use tf.compat.v1.assign_add instead.\n",
            "\n",
            "WARNING:tensorflow:From /usr/local/lib/python3.6/dist-packages/keras/backend/tensorflow_backend.py:1020: The name tf.assign is deprecated. Please use tf.compat.v1.assign instead.\n",
            "\n",
            "WARNING:tensorflow:From /usr/local/lib/python3.6/dist-packages/keras/backend/tensorflow_backend.py:3005: The name tf.Session is deprecated. Please use tf.compat.v1.Session instead.\n",
            "\n",
            "Train on 13618 samples, validate on 1514 samples\n",
            "Epoch 1/30\n",
            "WARNING:tensorflow:From /usr/local/lib/python3.6/dist-packages/keras/backend/tensorflow_backend.py:190: The name tf.get_default_session is deprecated. Please use tf.compat.v1.get_default_session instead.\n",
            "\n",
            "WARNING:tensorflow:From /usr/local/lib/python3.6/dist-packages/keras/backend/tensorflow_backend.py:197: The name tf.ConfigProto is deprecated. Please use tf.compat.v1.ConfigProto instead.\n",
            "\n",
            "WARNING:tensorflow:From /usr/local/lib/python3.6/dist-packages/keras/backend/tensorflow_backend.py:207: The name tf.global_variables is deprecated. Please use tf.compat.v1.global_variables instead.\n",
            "\n",
            "WARNING:tensorflow:From /usr/local/lib/python3.6/dist-packages/keras/backend/tensorflow_backend.py:216: The name tf.is_variable_initialized is deprecated. Please use tf.compat.v1.is_variable_initialized instead.\n",
            "\n",
            "WARNING:tensorflow:From /usr/local/lib/python3.6/dist-packages/keras/backend/tensorflow_backend.py:223: The name tf.variables_initializer is deprecated. Please use tf.compat.v1.variables_initializer instead.\n",
            "\n",
            "13618/13618 [==============================] - 1945s 143ms/step - loss: 1.0882 - acc: 0.3750 - f1_m: 0.4810 - precision_m: 0.3512 - recall_m: 0.7801 - val_loss: 1.0779 - val_acc: 0.3930 - val_f1_m: 0.5130 - val_precision_m: 0.3539 - val_recall_m: 0.9326\n",
            "\n",
            "Epoch 00001: val_loss improved from inf to 1.07795, saving model to /content/gdrive/My Drive/NLP/model_HAR.h5\n",
            "Epoch 2/30\n",
            "13618/13618 [==============================] - 1940s 142ms/step - loss: 1.0792 - acc: 0.3904 - f1_m: 0.5069 - precision_m: 0.3478 - recall_m: 0.9384 - val_loss: 1.0774 - val_acc: 0.3910 - val_f1_m: 0.5095 - val_precision_m: 0.3471 - val_recall_m: 0.9577\n",
            "\n",
            "Epoch 00002: val_loss improved from 1.07795 to 1.07744, saving model to /content/gdrive/My Drive/NLP/model_HAR.h5\n",
            "Epoch 3/30\n",
            "13618/13618 [==============================] - 1939s 142ms/step - loss: 1.0754 - acc: 0.3910 - f1_m: 0.5098 - precision_m: 0.3473 - recall_m: 0.9598 - val_loss: 1.0828 - val_acc: 0.3983 - val_f1_m: 0.5072 - val_precision_m: 0.3435 - val_recall_m: 0.9696\n",
            "\n",
            "Epoch 00003: val_loss did not improve from 1.07744\n",
            "Epoch 4/30\n",
            "13618/13618 [==============================] - 1939s 142ms/step - loss: 1.0595 - acc: 0.4080 - f1_m: 0.5131 - precision_m: 0.3530 - recall_m: 0.9438 - val_loss: 1.0174 - val_acc: 0.4524 - val_f1_m: 0.5171 - val_precision_m: 0.3658 - val_recall_m: 0.8838\n",
            "\n",
            "Epoch 00004: val_loss improved from 1.07744 to 1.01744, saving model to /content/gdrive/My Drive/NLP/model_HAR.h5\n",
            "Epoch 5/30\n",
            "13618/13618 [==============================] - 1947s 143ms/step - loss: 1.0066 - acc: 0.4665 - f1_m: 0.5457 - precision_m: 0.4046 - recall_m: 0.8445 - val_loss: 1.0027 - val_acc: 0.4624 - val_f1_m: 0.5543 - val_precision_m: 0.4192 - val_recall_m: 0.8184\n",
            "\n",
            "Epoch 00005: val_loss improved from 1.01744 to 1.00268, saving model to /content/gdrive/My Drive/NLP/model_HAR.h5\n",
            "Epoch 6/30\n",
            "13618/13618 [==============================] - 1949s 143ms/step - loss: 0.9688 - acc: 0.4979 - f1_m: 0.5651 - precision_m: 0.4385 - recall_m: 0.7967 - val_loss: 0.9954 - val_acc: 0.4663 - val_f1_m: 0.5549 - val_precision_m: 0.4274 - val_recall_m: 0.7919\n",
            "\n",
            "Epoch 00006: val_loss improved from 1.00268 to 0.99536, saving model to /content/gdrive/My Drive/NLP/model_HAR.h5\n",
            "Epoch 7/30\n",
            "13618/13618 [==============================] - 1952s 143ms/step - loss: 0.9299 - acc: 0.5247 - f1_m: 0.5876 - precision_m: 0.4583 - recall_m: 0.8209 - val_loss: 0.9590 - val_acc: 0.5145 - val_f1_m: 0.5822 - val_precision_m: 0.4491 - val_recall_m: 0.8283\n",
            "\n",
            "Epoch 00007: val_loss improved from 0.99536 to 0.95903, saving model to /content/gdrive/My Drive/NLP/model_HAR.h5\n",
            "Epoch 8/30\n",
            "13618/13618 [==============================] - 1951s 143ms/step - loss: 0.8952 - acc: 0.5605 - f1_m: 0.6034 - precision_m: 0.4837 - recall_m: 0.8038 - val_loss: 0.9754 - val_acc: 0.5198 - val_f1_m: 0.5533 - val_precision_m: 0.4682 - val_recall_m: 0.6777\n",
            "\n",
            "Epoch 00008: val_loss did not improve from 0.95903\n",
            "Epoch 9/30\n",
            "13618/13618 [==============================] - 1950s 143ms/step - loss: 0.8616 - acc: 0.5812 - f1_m: 0.6161 - precision_m: 0.5075 - recall_m: 0.7877 - val_loss: 0.9576 - val_acc: 0.5185 - val_f1_m: 0.5711 - val_precision_m: 0.4633 - val_recall_m: 0.7457\n",
            "\n",
            "Epoch 00009: val_loss improved from 0.95903 to 0.95757, saving model to /content/gdrive/My Drive/NLP/model_HAR.h5\n",
            "Epoch 10/30\n",
            "13618/13618 [==============================] - 1950s 143ms/step - loss: 0.8058 - acc: 0.6173 - f1_m: 0.6433 - precision_m: 0.5492 - recall_m: 0.7798 - val_loss: 0.9894 - val_acc: 0.5376 - val_f1_m: 0.5723 - val_precision_m: 0.4877 - val_recall_m: 0.6935\n",
            "\n",
            "Epoch 00010: val_loss did not improve from 0.95757\n",
            "Epoch 11/30\n",
            "13618/13618 [==============================] - 1951s 143ms/step - loss: 0.7814 - acc: 0.6339 - f1_m: 0.6586 - precision_m: 0.5682 - recall_m: 0.7865 - val_loss: 0.9948 - val_acc: 0.5337 - val_f1_m: 0.5782 - val_precision_m: 0.5035 - val_recall_m: 0.6803\n",
            "\n",
            "Epoch 00011: val_loss did not improve from 0.95757\n",
            "Epoch 12/30\n",
            "13618/13618 [==============================] - 1951s 143ms/step - loss: 0.7242 - acc: 0.6701 - f1_m: 0.6859 - precision_m: 0.6103 - recall_m: 0.7859 - val_loss: 0.9742 - val_acc: 0.5429 - val_f1_m: 0.5732 - val_precision_m: 0.5078 - val_recall_m: 0.6598\n",
            "\n",
            "Epoch 00012: val_loss did not improve from 0.95757\n",
            "Epoch 13/30\n",
            "13618/13618 [==============================] - 1949s 143ms/step - loss: 0.6570 - acc: 0.7044 - f1_m: 0.7141 - precision_m: 0.6456 - recall_m: 0.8016 - val_loss: 1.0600 - val_acc: 0.5456 - val_f1_m: 0.5796 - val_precision_m: 0.5214 - val_recall_m: 0.6546\n",
            "\n",
            "Epoch 00013: val_loss did not improve from 0.95757\n",
            "Epoch 14/30\n",
            "13618/13618 [==============================] - 1949s 143ms/step - loss: 0.5945 - acc: 0.7363 - f1_m: 0.7434 - precision_m: 0.6880 - recall_m: 0.8114 - val_loss: 1.1808 - val_acc: 0.5423 - val_f1_m: 0.5624 - val_precision_m: 0.5232 - val_recall_m: 0.6090\n",
            "\n",
            "Epoch 00014: val_loss did not improve from 0.95757\n",
            "Epoch 15/30\n",
            "13618/13618 [==============================] - 1951s 143ms/step - loss: 0.5223 - acc: 0.7751 - f1_m: 0.7778 - precision_m: 0.7307 - recall_m: 0.8331 - val_loss: 1.2238 - val_acc: 0.5403 - val_f1_m: 0.5562 - val_precision_m: 0.5273 - val_recall_m: 0.5898\n",
            "\n",
            "Epoch 00015: val_loss did not improve from 0.95757\n",
            "Epoch 16/30\n",
            "13618/13618 [==============================] - 1952s 143ms/step - loss: 0.4527 - acc: 0.8113 - f1_m: 0.8126 - precision_m: 0.7831 - recall_m: 0.8462 - val_loss: 1.2103 - val_acc: 0.5423 - val_f1_m: 0.5505 - val_precision_m: 0.5221 - val_recall_m: 0.5832\n",
            "\n",
            "Epoch 00016: val_loss did not improve from 0.95757\n",
            "Epoch 17/30\n",
            "13618/13618 [==============================] - 1959s 144ms/step - loss: 0.3973 - acc: 0.8348 - f1_m: 0.8362 - precision_m: 0.8133 - recall_m: 0.8616 - val_loss: 1.4409 - val_acc: 0.5456 - val_f1_m: 0.5550 - val_precision_m: 0.5389 - val_recall_m: 0.5727\n",
            "\n",
            "Epoch 00017: val_loss did not improve from 0.95757\n",
            "Epoch 18/30\n",
            " 8544/13618 [=================>............] - ETA: 11:43 - loss: 0.3361 - acc: 0.8667 - f1_m: 0.8650 - precision_m: 0.8507 - recall_m: 0.8807"
          ],
          "name": "stdout"
        },
        {
          "output_type": "error",
          "ename": "KeyboardInterrupt",
          "evalue": "ignored",
          "traceback": [
            "\u001b[0;31m---------------------------------------------------------------------------\u001b[0m",
            "\u001b[0;31mKeyboardInterrupt\u001b[0m                         Traceback (most recent call last)",
            "\u001b[0;32m<ipython-input-20-2b312909cea1>\u001b[0m in \u001b[0;36m<module>\u001b[0;34m()\u001b[0m\n\u001b[1;32m      3\u001b[0m                     \u001b[0mbatch_size\u001b[0m\u001b[0;34m=\u001b[0m\u001b[0;36m32\u001b[0m\u001b[0;34m,\u001b[0m\u001b[0;34m\u001b[0m\u001b[0;34m\u001b[0m\u001b[0m\n\u001b[1;32m      4\u001b[0m                     \u001b[0mepochs\u001b[0m\u001b[0;34m=\u001b[0m\u001b[0;36m30\u001b[0m\u001b[0;34m,\u001b[0m\u001b[0;34m\u001b[0m\u001b[0;34m\u001b[0m\u001b[0m\n\u001b[0;32m----> 5\u001b[0;31m                     validation_data=([X_text_val, X_lang_val], Y_val), callbacks=callbacks_list)\n\u001b[0m",
            "\u001b[0;32m/usr/local/lib/python3.6/dist-packages/keras/engine/training.py\u001b[0m in \u001b[0;36mfit\u001b[0;34m(self, x, y, batch_size, epochs, verbose, callbacks, validation_split, validation_data, shuffle, class_weight, sample_weight, initial_epoch, steps_per_epoch, validation_steps, validation_freq, max_queue_size, workers, use_multiprocessing, **kwargs)\u001b[0m\n\u001b[1;32m   1176\u001b[0m                                         \u001b[0msteps_per_epoch\u001b[0m\u001b[0;34m=\u001b[0m\u001b[0msteps_per_epoch\u001b[0m\u001b[0;34m,\u001b[0m\u001b[0;34m\u001b[0m\u001b[0;34m\u001b[0m\u001b[0m\n\u001b[1;32m   1177\u001b[0m                                         \u001b[0mvalidation_steps\u001b[0m\u001b[0;34m=\u001b[0m\u001b[0mvalidation_steps\u001b[0m\u001b[0;34m,\u001b[0m\u001b[0;34m\u001b[0m\u001b[0;34m\u001b[0m\u001b[0m\n\u001b[0;32m-> 1178\u001b[0;31m                                         validation_freq=validation_freq)\n\u001b[0m\u001b[1;32m   1179\u001b[0m \u001b[0;34m\u001b[0m\u001b[0m\n\u001b[1;32m   1180\u001b[0m     def evaluate(self,\n",
            "\u001b[0;32m/usr/local/lib/python3.6/dist-packages/keras/engine/training_arrays.py\u001b[0m in \u001b[0;36mfit_loop\u001b[0;34m(model, fit_function, fit_inputs, out_labels, batch_size, epochs, verbose, callbacks, val_function, val_inputs, shuffle, callback_metrics, initial_epoch, steps_per_epoch, validation_steps, validation_freq)\u001b[0m\n\u001b[1;32m    202\u001b[0m                     \u001b[0mins_batch\u001b[0m\u001b[0;34m[\u001b[0m\u001b[0mi\u001b[0m\u001b[0;34m]\u001b[0m \u001b[0;34m=\u001b[0m \u001b[0mins_batch\u001b[0m\u001b[0;34m[\u001b[0m\u001b[0mi\u001b[0m\u001b[0;34m]\u001b[0m\u001b[0;34m.\u001b[0m\u001b[0mtoarray\u001b[0m\u001b[0;34m(\u001b[0m\u001b[0;34m)\u001b[0m\u001b[0;34m\u001b[0m\u001b[0;34m\u001b[0m\u001b[0m\n\u001b[1;32m    203\u001b[0m \u001b[0;34m\u001b[0m\u001b[0m\n\u001b[0;32m--> 204\u001b[0;31m                 \u001b[0mouts\u001b[0m \u001b[0;34m=\u001b[0m \u001b[0mfit_function\u001b[0m\u001b[0;34m(\u001b[0m\u001b[0mins_batch\u001b[0m\u001b[0;34m)\u001b[0m\u001b[0;34m\u001b[0m\u001b[0;34m\u001b[0m\u001b[0m\n\u001b[0m\u001b[1;32m    205\u001b[0m                 \u001b[0mouts\u001b[0m \u001b[0;34m=\u001b[0m \u001b[0mto_list\u001b[0m\u001b[0;34m(\u001b[0m\u001b[0mouts\u001b[0m\u001b[0;34m)\u001b[0m\u001b[0;34m\u001b[0m\u001b[0;34m\u001b[0m\u001b[0m\n\u001b[1;32m    206\u001b[0m                 \u001b[0;32mfor\u001b[0m \u001b[0ml\u001b[0m\u001b[0;34m,\u001b[0m \u001b[0mo\u001b[0m \u001b[0;32min\u001b[0m \u001b[0mzip\u001b[0m\u001b[0;34m(\u001b[0m\u001b[0mout_labels\u001b[0m\u001b[0;34m,\u001b[0m \u001b[0mouts\u001b[0m\u001b[0;34m)\u001b[0m\u001b[0;34m:\u001b[0m\u001b[0;34m\u001b[0m\u001b[0;34m\u001b[0m\u001b[0m\n",
            "\u001b[0;32m/usr/local/lib/python3.6/dist-packages/keras/backend/tensorflow_backend.py\u001b[0m in \u001b[0;36m__call__\u001b[0;34m(self, inputs)\u001b[0m\n\u001b[1;32m   2977\u001b[0m                     \u001b[0;32mreturn\u001b[0m \u001b[0mself\u001b[0m\u001b[0;34m.\u001b[0m\u001b[0m_legacy_call\u001b[0m\u001b[0;34m(\u001b[0m\u001b[0minputs\u001b[0m\u001b[0;34m)\u001b[0m\u001b[0;34m\u001b[0m\u001b[0;34m\u001b[0m\u001b[0m\n\u001b[1;32m   2978\u001b[0m \u001b[0;34m\u001b[0m\u001b[0m\n\u001b[0;32m-> 2979\u001b[0;31m             \u001b[0;32mreturn\u001b[0m \u001b[0mself\u001b[0m\u001b[0;34m.\u001b[0m\u001b[0m_call\u001b[0m\u001b[0;34m(\u001b[0m\u001b[0minputs\u001b[0m\u001b[0;34m)\u001b[0m\u001b[0;34m\u001b[0m\u001b[0;34m\u001b[0m\u001b[0m\n\u001b[0m\u001b[1;32m   2980\u001b[0m         \u001b[0;32melse\u001b[0m\u001b[0;34m:\u001b[0m\u001b[0;34m\u001b[0m\u001b[0;34m\u001b[0m\u001b[0m\n\u001b[1;32m   2981\u001b[0m             \u001b[0;32mif\u001b[0m \u001b[0mpy_any\u001b[0m\u001b[0;34m(\u001b[0m\u001b[0mis_tensor\u001b[0m\u001b[0;34m(\u001b[0m\u001b[0mx\u001b[0m\u001b[0;34m)\u001b[0m \u001b[0;32mfor\u001b[0m \u001b[0mx\u001b[0m \u001b[0;32min\u001b[0m \u001b[0minputs\u001b[0m\u001b[0;34m)\u001b[0m\u001b[0;34m:\u001b[0m\u001b[0;34m\u001b[0m\u001b[0;34m\u001b[0m\u001b[0m\n",
            "\u001b[0;32m/usr/local/lib/python3.6/dist-packages/keras/backend/tensorflow_backend.py\u001b[0m in \u001b[0;36m_call\u001b[0;34m(self, inputs)\u001b[0m\n\u001b[1;32m   2935\u001b[0m             \u001b[0mfetched\u001b[0m \u001b[0;34m=\u001b[0m \u001b[0mself\u001b[0m\u001b[0;34m.\u001b[0m\u001b[0m_callable_fn\u001b[0m\u001b[0;34m(\u001b[0m\u001b[0;34m*\u001b[0m\u001b[0marray_vals\u001b[0m\u001b[0;34m,\u001b[0m \u001b[0mrun_metadata\u001b[0m\u001b[0;34m=\u001b[0m\u001b[0mself\u001b[0m\u001b[0;34m.\u001b[0m\u001b[0mrun_metadata\u001b[0m\u001b[0;34m)\u001b[0m\u001b[0;34m\u001b[0m\u001b[0;34m\u001b[0m\u001b[0m\n\u001b[1;32m   2936\u001b[0m         \u001b[0;32melse\u001b[0m\u001b[0;34m:\u001b[0m\u001b[0;34m\u001b[0m\u001b[0;34m\u001b[0m\u001b[0m\n\u001b[0;32m-> 2937\u001b[0;31m             \u001b[0mfetched\u001b[0m \u001b[0;34m=\u001b[0m \u001b[0mself\u001b[0m\u001b[0;34m.\u001b[0m\u001b[0m_callable_fn\u001b[0m\u001b[0;34m(\u001b[0m\u001b[0;34m*\u001b[0m\u001b[0marray_vals\u001b[0m\u001b[0;34m)\u001b[0m\u001b[0;34m\u001b[0m\u001b[0;34m\u001b[0m\u001b[0m\n\u001b[0m\u001b[1;32m   2938\u001b[0m         \u001b[0;32mreturn\u001b[0m \u001b[0mfetched\u001b[0m\u001b[0;34m[\u001b[0m\u001b[0;34m:\u001b[0m\u001b[0mlen\u001b[0m\u001b[0;34m(\u001b[0m\u001b[0mself\u001b[0m\u001b[0;34m.\u001b[0m\u001b[0moutputs\u001b[0m\u001b[0;34m)\u001b[0m\u001b[0;34m]\u001b[0m\u001b[0;34m\u001b[0m\u001b[0;34m\u001b[0m\u001b[0m\n\u001b[1;32m   2939\u001b[0m \u001b[0;34m\u001b[0m\u001b[0m\n",
            "\u001b[0;32m/usr/local/lib/python3.6/dist-packages/tensorflow_core/python/client/session.py\u001b[0m in \u001b[0;36m__call__\u001b[0;34m(self, *args, **kwargs)\u001b[0m\n\u001b[1;32m   1470\u001b[0m         ret = tf_session.TF_SessionRunCallable(self._session._session,\n\u001b[1;32m   1471\u001b[0m                                                \u001b[0mself\u001b[0m\u001b[0;34m.\u001b[0m\u001b[0m_handle\u001b[0m\u001b[0;34m,\u001b[0m \u001b[0margs\u001b[0m\u001b[0;34m,\u001b[0m\u001b[0;34m\u001b[0m\u001b[0;34m\u001b[0m\u001b[0m\n\u001b[0;32m-> 1472\u001b[0;31m                                                run_metadata_ptr)\n\u001b[0m\u001b[1;32m   1473\u001b[0m         \u001b[0;32mif\u001b[0m \u001b[0mrun_metadata\u001b[0m\u001b[0;34m:\u001b[0m\u001b[0;34m\u001b[0m\u001b[0;34m\u001b[0m\u001b[0m\n\u001b[1;32m   1474\u001b[0m           \u001b[0mproto_data\u001b[0m \u001b[0;34m=\u001b[0m \u001b[0mtf_session\u001b[0m\u001b[0;34m.\u001b[0m\u001b[0mTF_GetBuffer\u001b[0m\u001b[0;34m(\u001b[0m\u001b[0mrun_metadata_ptr\u001b[0m\u001b[0;34m)\u001b[0m\u001b[0;34m\u001b[0m\u001b[0;34m\u001b[0m\u001b[0m\n",
            "\u001b[0;31mKeyboardInterrupt\u001b[0m: "
          ]
        }
      ]
    },
    {
      "cell_type": "code",
      "metadata": {
        "id": "bGqp4gzbpNr7",
        "colab_type": "code",
        "colab": {}
      },
      "source": [
        "plt.plot(history_2.history['f1_m'])\n",
        "plt.plot(history_2.history['val_f1_m'])"
      ],
      "execution_count": 0,
      "outputs": []
    },
    {
      "cell_type": "code",
      "metadata": {
        "id": "YmfTylYCpRKo",
        "colab_type": "code",
        "colab": {}
      },
      "source": [
        "plt.plot(history_2.history['loss'])\n",
        "plt.plot(history_2.history['val_loss'])"
      ],
      "execution_count": 0,
      "outputs": []
    },
    {
      "cell_type": "code",
      "metadata": {
        "id": "rncP9LH4EbZe",
        "colab_type": "code",
        "colab": {
          "base_uri": "https://localhost:8080/",
          "height": 142
        },
        "outputId": "43dc5949-ee11-479e-d605-450d453bc6de"
      },
      "source": [
        "#load the model\n",
        "dependencies = {\n",
        "    'f1_m':f1_m,\n",
        "    'precision_m':precision_m,\n",
        "    'recall_m':recall_m\n",
        "}\n",
        "new_model = load_model(datapath+\"model_HAR.h5\", custom_objects=dependencies)\n"
      ],
      "execution_count": 30,
      "outputs": [
        {
          "output_type": "stream",
          "text": [
            "WARNING:tensorflow:From /usr/local/lib/python3.6/dist-packages/tensorflow_core/python/ops/math_grad.py:1424: where (from tensorflow.python.ops.array_ops) is deprecated and will be removed in a future version.\n",
            "Instructions for updating:\n",
            "Use tf.where in 2.0, which has the same broadcast rule as np.where\n",
            "WARNING:tensorflow:From /usr/local/lib/python3.6/dist-packages/keras/backend/tensorflow_backend.py:1033: The name tf.assign_add is deprecated. Please use tf.compat.v1.assign_add instead.\n",
            "\n",
            "WARNING:tensorflow:From /usr/local/lib/python3.6/dist-packages/keras/backend/tensorflow_backend.py:1020: The name tf.assign is deprecated. Please use tf.compat.v1.assign instead.\n",
            "\n"
          ],
          "name": "stdout"
        }
      ]
    },
    {
      "cell_type": "code",
      "metadata": {
        "id": "wqRp-8EEZPvo",
        "colab_type": "code",
        "colab": {}
      },
      "source": [
        "pred = new_model.predict(X_text_test, batch_size=32)"
      ],
      "execution_count": 0,
      "outputs": []
    },
    {
      "cell_type": "code",
      "metadata": {
        "id": "pSzwHbI2aol_",
        "colab_type": "code",
        "colab": {}
      },
      "source": [
        "from sklearn.metrics import confusion_matrix\n",
        "from sklearn.metrics import accuracy_score\n",
        "from sklearn.metrics import classification_report\n",
        "def cal_accuracy(y_test, y_pred): \n",
        "      \n",
        "    print(\"Confusion Matrix: \\n\", \n",
        "        confusion_matrix(y_test, y_pred)) \n",
        "      \n",
        "    print (\"Accuracy : \", \n",
        "    accuracy_score(y_test,y_pred)*100) \n",
        "      \n",
        "    print(\"Report \\n: \", \n",
        "    classification_report(y_test, y_pred)) "
      ],
      "execution_count": 0,
      "outputs": []
    },
    {
      "cell_type": "code",
      "metadata": {
        "id": "G--he7RibtFL",
        "colab_type": "code",
        "colab": {
          "base_uri": "https://localhost:8080/",
          "height": 303
        },
        "outputId": "76f2bbbe-1da9-47c5-9519-ab2a52c7850d"
      },
      "source": [
        "cal_accuracy([np.argmax(j) for j in Y_test], [np.argmax(j) for j in pred])"
      ],
      "execution_count": 41,
      "outputs": [
        {
          "output_type": "stream",
          "text": [
            "Confusion Matrix: \n",
            " [[292 155 135]\n",
            " [ 66 378  89]\n",
            " [181 350 224]]\n",
            "Accuracy :  47.80748663101605\n",
            "Report \n",
            ":                precision    recall  f1-score   support\n",
            "\n",
            "           0       0.54      0.50      0.52       582\n",
            "           1       0.43      0.71      0.53       533\n",
            "           2       0.50      0.30      0.37       755\n",
            "\n",
            "    accuracy                           0.48      1870\n",
            "   macro avg       0.49      0.50      0.48      1870\n",
            "weighted avg       0.49      0.48      0.46      1870\n",
            "\n"
          ],
          "name": "stdout"
        }
      ]
    },
    {
      "cell_type": "code",
      "metadata": {
        "id": "37HTYXbPbwSF",
        "colab_type": "code",
        "colab": {
          "base_uri": "https://localhost:8080/",
          "height": 976
        },
        "outputId": "916e9079-78d1-4e8c-8226-c078b93bb571"
      },
      "source": [
        "from keras.utils import plot_model\n",
        "plot_model(new_model, to_file=datapath+'model.png', show_shapes=True)"
      ],
      "execution_count": 43,
      "outputs": [
        {
          "output_type": "execute_result",
          "data": {
            "image/png": "[encoded data removed]",
            "text/plain": [
              "<IPython.core.display.Image object>"
            ]
          },
          "metadata": {
            "tags": []
          },
          "execution_count": 43
        }
      ]
    },
    {
      "cell_type": "code",
      "metadata": {
        "id": "HTE79ysrgt-J",
        "colab_type": "code",
        "colab": {}
      },
      "source": [
        ""
      ],
      "execution_count": 0,
      "outputs": []
    }
  ]
}
